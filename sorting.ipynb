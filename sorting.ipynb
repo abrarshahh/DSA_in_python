{
 "cells": [
  {
   "cell_type": "markdown",
   "metadata": {},
   "source": [
    "# Insertion Sort"
   ]
  },
  {
   "cell_type": "code",
   "execution_count": 20,
   "metadata": {},
   "outputs": [
    {
     "name": "stdout",
     "output_type": "stream",
     "text": [
      "[2, 3, 7, 6, 1]\n",
      "[1, 2, 3, 6, 7]\n"
     ]
    }
   ],
   "source": [
    "\n",
    "n=int(input(\"Enter limit:\"))\n",
    "array = []\n",
    "for i in range(n):\n",
    "    array.append(int(input(\"enter element:\")))\n",
    "print(array)\n",
    "\n",
    "for i in range(len(array)-1):\n",
    "    for j in range(len(array)-1):\n",
    "        if array[j] >= array[j+1]:\n",
    "            array[j],array[j+1]=array[j+1],array[j]\n",
    "        \n",
    "print(array)"
   ]
  },
  {
   "cell_type": "markdown",
   "metadata": {},
   "source": [
    "# Selection Sort"
   ]
  },
  {
   "cell_type": "code",
   "execution_count": 22,
   "metadata": {},
   "outputs": [
    {
     "name": "stdout",
     "output_type": "stream",
     "text": [
      "[5, 4, 3, 2, 1]\n",
      "[5, 4, 3, 2, 1]\n"
     ]
    }
   ],
   "source": [
    "n=int(input(\"Enter limit:\"))\n",
    "array = []\n",
    "for i in range(n):\n",
    "    array.append(int(input(\"enter element:\")))\n",
    "print(array)\n",
    "\n",
    "for i in range(len(array)-1):\n",
    "    if array[i] < array[n-1]:\n",
    "        array[i] , array[n-1] = array[n-1] , array[i]\n",
    "        \n",
    "print(array)"
   ]
  }
 ],
 "metadata": {
  "kernelspec": {
   "display_name": "Python 3",
   "language": "python",
   "name": "python3"
  },
  "language_info": {
   "codemirror_mode": {
    "name": "ipython",
    "version": 3
   },
   "file_extension": ".py",
   "mimetype": "text/x-python",
   "name": "python",
   "nbconvert_exporter": "python",
   "pygments_lexer": "ipython3",
   "version": "3.11.5"
  }
 },
 "nbformat": 4,
 "nbformat_minor": 2
}
