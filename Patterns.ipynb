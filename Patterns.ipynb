{
 "cells": [
  {
   "cell_type": "markdown",
   "metadata": {},
   "source": [
    "# PATTERNS"
   ]
  },
  {
   "cell_type": "code",
   "execution_count": 12,
   "metadata": {},
   "outputs": [
    {
     "name": "stdout",
     "output_type": "stream",
     "text": [
      "* * \n",
      "* * \n"
     ]
    }
   ],
   "source": [
    "inp = int(input(\"Enter the number of stars :\"))\n",
    "\n",
    "for i in range(inp):\n",
    "    for j in range(inp):\n",
    "        print(\"*\", end =\" \")\n",
    "       \n",
    "    print()  \n"
   ]
  },
  {
   "cell_type": "code",
   "execution_count": 18,
   "metadata": {},
   "outputs": [
    {
     "name": "stdout",
     "output_type": "stream",
     "text": [
      "* \n",
      "* * \n",
      "* * * \n",
      "* * * * \n",
      "* * * * * \n"
     ]
    }
   ],
   "source": [
    "inp = int(input(\"Enter the number of stars :\"))\n",
    "\n",
    "for i in range(1,inp+1):\n",
    "    for j in range(i):\n",
    "        print(\"*\", end =\" \")\n",
    "        j += 1\n",
    "    print()\n",
    "      \n"
   ]
  },
  {
   "cell_type": "code",
   "execution_count": 32,
   "metadata": {},
   "outputs": [
    {
     "name": "stdout",
     "output_type": "stream",
     "text": [
      "1 \n",
      "1 2 \n",
      "1 2 3 \n"
     ]
    }
   ],
   "source": [
    "inp = int(input(\"Enter the number of stars :\"))\n",
    "for i in range(1,inp+1):\n",
    "    for j in range(1,i+1):\n",
    "        print(j, end =\" \")\n",
    "    print()"
   ]
  },
  {
   "cell_type": "code",
   "execution_count": 36,
   "metadata": {},
   "outputs": [
    {
     "name": "stdout",
     "output_type": "stream",
     "text": [
      "1 \n",
      "2 2 \n",
      "3 3 3 \n"
     ]
    }
   ],
   "source": [
    "inp = int(input(\"Enter the number of stars :\"))\n",
    "for i in range(1,inp+1):\n",
    "    for j in range(i):\n",
    "        print(i, end =\" \")\n",
    "    print()"
   ]
  },
  {
   "cell_type": "code",
   "execution_count": 45,
   "metadata": {},
   "outputs": [
    {
     "name": "stdout",
     "output_type": "stream",
     "text": [
      "* * * \n",
      "* * \n",
      "* \n"
     ]
    }
   ],
   "source": [
    "inp = int(input(\"Enter the number of stars :\"))\n",
    "\n",
    "for i in range(inp,0,-1):\n",
    "    for j in range(i):\n",
    "        print(\"*\", end =\" \")\n",
    "        j -= 1\n",
    "    print()"
   ]
  },
  {
   "cell_type": "code",
   "execution_count": 46,
   "metadata": {},
   "outputs": [
    {
     "name": "stdout",
     "output_type": "stream",
     "text": [
      "1 2 3 \n",
      "1 2 \n",
      "1 \n"
     ]
    }
   ],
   "source": [
    "inp = int(input(\"Enter the number of stars :\"))\n",
    "for i in range(inp,0,-1):\n",
    "    for j in range(1,i+1):\n",
    "        print(j, end =\" \")\n",
    "    print()"
   ]
  },
  {
   "cell_type": "code",
   "execution_count": 47,
   "metadata": {},
   "outputs": [
    {
     "name": "stdout",
     "output_type": "stream",
     "text": [
      "3 3 3 \n",
      "2 2 \n",
      "1 \n"
     ]
    }
   ],
   "source": [
    "inp = int(input(\"Enter the number of stars :\"))\n",
    "for i in range(inp,0,-1):\n",
    "    for j in range(i):\n",
    "        print(i, end =\" \")\n",
    "    print()"
   ]
  },
  {
   "cell_type": "code",
   "execution_count": 67,
   "metadata": {},
   "outputs": [
    {
     "name": "stdout",
     "output_type": "stream",
     "text": [
      "        * \n",
      "      * * * \n",
      "    * * * * * \n",
      "  * * * * * * * \n",
      "* * * * * * * * * \n"
     ]
    }
   ],
   "source": [
    "inp = int(input(\"Enter the number of stars in odd :\"))\n",
    "\n",
    "for i in range(1,inp+1):\n",
    "    for j in range(inp-i):\n",
    "        print(\" \", end =\" \")\n",
    "    for k in range(1,2*i):\n",
    "        print(\"*\", end=\" \")\n",
    "    print()"
   ]
  },
  {
   "cell_type": "code",
   "execution_count": 93,
   "metadata": {},
   "outputs": [
    {
     "name": "stdout",
     "output_type": "stream",
     "text": [
      "* * * * * * * * * \n",
      "  * * * * * * * \n",
      "    * * * * * \n",
      "      * * * \n",
      "        * \n"
     ]
    }
   ],
   "source": [
    "inp = int(input(\"Enter the number of stars in odd :\"))\n",
    "\n",
    "for i in range(inp,0,-1):\n",
    "    for j in range(inp-i):\n",
    "        print(\" \", end =\" \")\n",
    "        j += 1\n",
    "    for k in range(2*i-1,0,-1):\n",
    "        print(\"*\", end=\" \")  \n",
    "    print()"
   ]
  },
  {
   "cell_type": "code",
   "execution_count": 95,
   "metadata": {},
   "outputs": [
    {
     "name": "stdout",
     "output_type": "stream",
     "text": [
      "        * \n",
      "      * * * \n",
      "    * * * * * \n",
      "  * * * * * * * \n",
      "* * * * * * * * * \n",
      "* * * * * * * * * \n",
      "  * * * * * * * \n",
      "    * * * * * \n",
      "      * * * \n",
      "        * \n"
     ]
    }
   ],
   "source": [
    "inp = int(input(\"Enter the number of stars in odd :\"))\n",
    "for i in range(1,inp+1):\n",
    "    for j in range(inp-i):\n",
    "        print(\" \", end =\" \")\n",
    "    for k in range(1,2*i):\n",
    "        print(\"*\", end=\" \")\n",
    "    print()\n",
    "    \n",
    "for i in range(inp,0,-1):\n",
    "    for j in range(inp-i):\n",
    "        print(\" \", end =\" \")\n",
    "        j += 1\n",
    "    for k in range(2*i-1,0,-1):\n",
    "        print(\"*\", end=\" \")  \n",
    "    print()\n",
    "    \n"
   ]
  }
 ],
 "metadata": {
  "kernelspec": {
   "display_name": "Python 3",
   "language": "python",
   "name": "python3"
  },
  "language_info": {
   "codemirror_mode": {
    "name": "ipython",
    "version": 3
   },
   "file_extension": ".py",
   "mimetype": "text/x-python",
   "name": "python",
   "nbconvert_exporter": "python",
   "pygments_lexer": "ipython3",
   "version": "3.11.5"
  }
 },
 "nbformat": 4,
 "nbformat_minor": 2
}
